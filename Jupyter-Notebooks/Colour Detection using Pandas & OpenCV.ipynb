{
 "cells": [
  {
   "cell_type": "markdown",
   "metadata": {},
   "source": [
    "## What is Colour Detection?\n",
    "<p>Colour detection is the process of detecting the name of any color. Simple isn’t it? Well, for humans this is an extremely easy task but for computers, it is not straightforward. Human eyes and brains work together to translate light into color. Light receptors that are present in our eyes transmit the signal to the brain. Our brain then recognizes the color. Since childhood, we have mapped certain lights with their color names. We will be using the somewhat same strategy to detect color names.</p>\n",
    "\n",
    "## About the Python Project\n",
    "<p>In this color detection Python project, we are going to build an application through which you can automatically get the name of the color by clicking on them. So for this, we will have a data file that contains the color name and its values. Then we will calculate the distance from each color and find the shortest one.</p>\n",
    "\n",
    "## The Dataset\n",
    "<p>Colors are made up of 3 primary colors; red, green, and blue. In computers, we define each color value within a range of 0 to 255. So in how many ways we can define a color? The answer is 256*256*256 = 16,581,375. There are approximately 16.5 million different ways to represent a color. In our dataset, we need to map each color’s values with their corresponding names. But don’t worry, we don’t need to map all the values. We will be using a dataset that contains RGB values with their corresponding names. The CSV file for our dataset has been taken from this link:</p>\n",
    "\n",
    "<a href=\"https://github.com/codebrainz/color-names/blob/master/output/colors.csv\">Colors Dataset,</a>\n",
    "\n",
    "<p>The colors.csv file includes 865 color names along with their RGB and hex values.</p>\n",
    "\n",
    "## Prerequisites\n",
    "<p>Before starting with this Python project with source code, you should be familiar with the computer vision library of Python that is OpenCV and Pandas.</p>\n",
    "\n",
    "\n",
    "<p>OpenCV, Pandas, and numpy are the Python packages that are necessary for this project in Python. To install them, simply run this pip command in your terminal:</p>\n",
    "\n",
    "    pip install opencv-python numpy pandas\n",
    "    \n",
    "## Steps for Building a Project in Python – Color Detection\n",
    "Here are the steps to build an application in Python that can detect colors:\n",
    "\n",
    "## 1. Download and unzip the zip file\n",
    "<a href=\"https://drive.google.com/open?id=1pbiX55FY0ohdlGfLyed0SDZ6vGQPKNkW\">Color Detection Zip File</a>\n",
    "\n",
    "The project folder contains 3 files:\n",
    "\n",
    "<ul>\n",
    "    <li>Color_detection.py – main source code of our project.</li>\n",
    "    <li>Colorpic.jpg – sample image for experimenting.</li>\n",
    "    <li>Colors.csv – a file that contains our dataset.</li>\n",
    "</ul>\n",
    "\n",
    "## 2. Taking an image from the user\n",
    "We are using argparse library to create an argument parser. We can directly give an image path from the command prompt:"
   ]
  },
  {
   "cell_type": "code",
   "execution_count": 1,
   "metadata": {},
   "outputs": [],
   "source": [
    "import argparse\n",
    "import cv2\n",
    "import pandas as pd\n",
    "\n",
    "#Creating argument parser to take image path from command line\n",
    "ap = argparse.ArgumentParser()\n",
    "ap.add_argument('-i', '--image', required=True, help=\"Image Path\")\n",
    "#args = vars(ap.parse_args())\n",
    "#img_path = args['images']\n",
    "img_path = 'image/Colour Detection/colorpic.jpg'\n",
    "\n",
    "# #Reading image with opencv\n",
    "img = cv2.imread(img_path)\n",
    "\n",
    "#declaring global variables (are used later on)\n",
    "clicked = False\n",
    "r = g = b = xpos = ypos = 0"
   ]
  },
  {
   "cell_type": "markdown",
   "metadata": {},
   "source": [
    "## 3. Next, we read the CSV file with pandas\n",
    "<p>The pandas library is very useful when we need to perform various operations on data files like CSV. pd.read_csv() reads the CSV file and loads it into the pandas DataFrame. We have assigned each column with a name for easy accessing.</p>"
   ]
  },
  {
   "cell_type": "code",
   "execution_count": 2,
   "metadata": {},
   "outputs": [],
   "source": [
    "#Reading csv file with pandas and giving names to each column\n",
    "index=[\"color\",\"color_name\",\"hex\",\"R\",\"G\",\"B\"]\n",
    "csv = pd.read_csv('data/colors.csv', names=index, header=None)"
   ]
  },
  {
   "cell_type": "markdown",
   "metadata": {},
   "source": [
    "## 4. Set a mouse callback event on a window\n",
    "<p>First, we created a window in which the input image will display. Then, we set a callback function which will be called when a mouse event happens.</p>"
   ]
  },
  {
   "cell_type": "code",
   "execution_count": 5,
   "metadata": {},
   "outputs": [],
   "source": [
    "cv2.namedWindow('image')\n",
    "cv2.setMouseCallback('image',draw_function)"
   ]
  },
  {
   "cell_type": "markdown",
   "metadata": {},
   "source": [
    "<p>With these lines, we named our window as ‘image’ and set a callback function which will call the draw_function() whenever a mouse event occurs.</p>\n",
    "\n",
    "## 5. Create the draw_function\n",
    "\n",
    "<p>It will calculate the rgb values of the pixel which we double click. The function parameters have the event name, (x,y) coordinates of the mouse position, etc. In the function, we check if the event is double-clicked then we calculate and set the r,g,b values along with x,y positions of the mouse.</p>"
   ]
  },
  {
   "cell_type": "code",
   "execution_count": 4,
   "metadata": {},
   "outputs": [],
   "source": [
    "#function to get x,y coordinates of mouse double click\n",
    "def draw_function(event, x,y,flags,param):\n",
    "    if event == cv2.EVENT_LBUTTONDBLCLK:\n",
    "        global b,g,r,xpos,ypos,clicked\n",
    "        clicked = True\n",
    "        xpos = x\n",
    "        ypos = y\n",
    "        b,g,r = img[y,x]\n",
    "        b = int(b)\n",
    "        g = int(g)\n",
    "        r = int(r)"
   ]
  },
  {
   "cell_type": "markdown",
   "metadata": {},
   "source": [
    "## 6. Calculate distance to get color name\n",
    "<p>We have the r,g and b values. Now, we need another function which will return us the color name from RGB values. To get the color name, we calculate a distance(d) which tells us how close we are to color and choose the one having minimum distance.</p>\n",
    "\n",
    "<p>Our distance is calculated by this formula:<p>\n",
    "\n",
    "d = abs(Red – ithRedColor) + (Green – ithGreenColor) + (Blue – ithBlueColor)"
   ]
  },
  {
   "cell_type": "code",
   "execution_count": 6,
   "metadata": {},
   "outputs": [],
   "source": [
    "def getColorName(R,G,B):\n",
    "    minimum = 10000\n",
    "    for i in range(len(csv)):\n",
    "        d = abs(R- int(csv.loc[i,\"R\"])) + abs(G- int(csv.loc[i,\"G\"]))+ abs(B- int(csv.loc[i,\"B\"]))\n",
    "        if(d<=minimum):\n",
    "            minimum = d\n",
    "            cname = csv.loc[i,\"color_name\"]\n",
    "    return cname"
   ]
  },
  {
   "cell_type": "markdown",
   "metadata": {},
   "source": [
    "## 7. Display image on the window\n",
    "<p>Whenever a double click event occurs, it will update the color name and RGB values on the window.<p>\n",
    "\n",
    "<p>Using the cv2.imshow() function, we draw the image on the window. When the user double clicks the window, we draw a rectangle and get the color name to draw text on the window using cv2.rectangle and cv2.putText() functions.</p>"
   ]
  },
  {
   "cell_type": "code",
   "execution_count": 7,
   "metadata": {},
   "outputs": [],
   "source": [
    "while(1):\n",
    "    cv2.imshow(\"image\",img)\n",
    "    if (clicked):\n",
    "        #cv2.rectangle(image, startpoint, endpoint, color, thickness) -1 thickness fills rectangle entirely\n",
    "        cv2.rectangle(img,(20,20), (750,60), (b,g,r), -1)\n",
    "\n",
    "        #Creating text string to display ( Color name and RGB values )\n",
    "        text = getColorName(r,g,b) + ' R='+ str(r) + ' G='+ str(g) + ' B='+ str(b)\n",
    "\n",
    "        #cv2.putText(img,text,start,font(0-7), fontScale, color, thickness, lineType, (optional bottomLeft bool) )\n",
    "        cv2.putText(img, text,(50,50),2,0.8,(255,255,255),2,cv2.LINE_AA)\n",
    "        #For very light colours we will display text in black colour\n",
    "        if(r+g+b>=600):\n",
    "            cv2.putText(img, text,(50,50),2,0.8,(0,0,0),2,cv2.LINE_AA)\n",
    "\n",
    "        clicked=False\n",
    "\n",
    "    #Break the loop when user hits 'esc' key \n",
    "    if cv2.waitKey(20) & 0xFF ==27:\n",
    "        break\n",
    "\n",
    "cv2.destroyAllWindows()"
   ]
  },
  {
   "cell_type": "markdown",
   "metadata": {},
   "source": [
    "## Summary\n",
    "\n",
    "<p>In this Python project with source code, we learned about colors and how we can extract color RGB values and the color name of a pixel. We learned how to handle events like double-clicking on the window and saw how to read CSV files with pandas and perform operations on data. This is used in numerous image editing and drawing apps.</p>"
   ]
  }
 ],
 "metadata": {
  "kernelspec": {
   "display_name": "Python 3",
   "language": "python",
   "name": "python3"
  },
  "language_info": {
   "codemirror_mode": {
    "name": "ipython",
    "version": 3
   },
   "file_extension": ".py",
   "mimetype": "text/x-python",
   "name": "python",
   "nbconvert_exporter": "python",
   "pygments_lexer": "ipython3",
   "version": "3.8.5"
  }
 },
 "nbformat": 4,
 "nbformat_minor": 4
}
